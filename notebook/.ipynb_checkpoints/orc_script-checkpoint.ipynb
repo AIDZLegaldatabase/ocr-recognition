{
 "cells": [
  {
   "cell_type": "markdown",
   "metadata": {},
   "source": [
    "Imports"
   ]
  },
  {
   "cell_type": "code",
   "execution_count": null,
   "metadata": {
    "vscode": {
     "languageId": "plaintext"
    }
   },
   "outputs": [],
   "source": [
    "from PyPDF2 import PdfReader\n",
    "import os\n",
    "import json\n",
    "from surya_ocr import SuryaOCR\n",
    "\n"
   ]
  },
  {
   "cell_type": "markdown",
   "metadata": {},
   "source": [
    "## Test parse 1 page only from OCR"
   ]
  },
  {
   "cell_type": "code",
   "execution_count": null,
   "metadata": {
    "vscode": {
     "languageId": "plaintext"
    }
   },
   "outputs": [],
   "source": [
    "# Set paths\n",
    "input_pdf_path = \"../data/input.pdf\"\n",
    "output_json_path = \"../output/parsed_text.json\"\n",
    "\n",
    "\n",
    "# Read PDF starting from page 2\n",
    "reader = PdfReader(input_pdf_path)\n",
    "pages = reader.pages[1:]  # Skip the first page\n",
    "text_per_page = [page.extract_text() for page in pages]\n",
    "\n",
    "# Initialize Surya OCR\n",
    "ocr = SuryaOCR()\n",
    "\n",
    "# Process pages for two-column PDFs\n",
    "results = []\n",
    "for page_text in text_per_page:\n",
    "    ocr_result = ocr.process_text(page_text, layout=\"2-column\")  # Adjust layout for 2 columns\n",
    "    results.append(ocr_result)\n",
    "\n",
    "# Save the results\n",
    "with open(output_json_path, \"w\") as f:\n",
    "    json.dump(results, f, indent=4)\n",
    "\n",
    "print(f\"Parsed text saved to {output_json_path}\")"
   ]
  },
  {
   "cell_type": "code",
   "execution_count": null,
   "metadata": {
    "vscode": {
     "languageId": "plaintext"
    }
   },
   "outputs": [],
   "source": [
    "# Set paths\n",
    "input_pdf_path = \"../data/input.pdf\"\n",
    "output_json_path = \"../output/parsed_text.json\"\n",
    "\n",
    "\n",
    "# Read PDF starting from page 2\n",
    "reader = PdfReader(input_pdf_path)\n",
    "pages = reader.pages[1:]  # Skip the first page\n",
    "text_per_page = [page.extract_text() for page in pages]\n",
    "\n",
    "# Initialize Surya OCR\n",
    "ocr = SuryaOCR()\n",
    "\n",
    "# Process pages for two-column PDFs\n",
    "results = []\n",
    "for page_text in text_per_page:\n",
    "    ocr_result = ocr.process_text(page_text, layout=\"2-column\")  # Adjust layout for 2 columns\n",
    "    results.append(ocr_result)\n",
    "\n",
    "# Save the results\n",
    "with open(output_json_path, \"w\") as f:\n",
    "    json.dump(results, f, indent=4)\n",
    "\n",
    "print(f\"Parsed text saved to {output_json_path}\")"
   ]
  },
  {
   "cell_type": "code",
   "execution_count": null,
   "metadata": {
    "vscode": {
     "languageId": "plaintext"
    }
   },
   "outputs": [],
   "source": [
    "# Set paths\n",
    "input_pdf_path = \"../data/input.pdf\"\n",
    "output_json_path = \"../output/parsed_text.json\"\n",
    "\n",
    "\n",
    "# Read PDF starting from page 2\n",
    "reader = PdfReader(input_pdf_path)\n",
    "pages = reader.pages[1:]  # Skip the first page\n",
    "text_per_page = [page.extract_text() for page in pages]\n",
    "\n",
    "# Initialize Surya OCR\n",
    "ocr = SuryaOCR()\n",
    "\n",
    "# Process pages for two-column PDFs\n",
    "results = []\n",
    "for page_text in text_per_page:\n",
    "    ocr_result = ocr.process_text(page_text, layout=\"2-column\")  # Adjust layout for 2 columns\n",
    "    results.append(ocr_result)\n",
    "\n",
    "# Save the results\n",
    "with open(output_json_path, \"w\") as f:\n",
    "    json.dump(results, f, indent=4)\n",
    "\n",
    "print(f\"Parsed text saved to {output_json_path}\")"
   ]
  },
  {
   "cell_type": "markdown",
   "metadata": {},
   "source": []
  }
 ],
 "metadata": {
  "language_info": {
   "name": "python"
  }
 },
 "nbformat": 4,
 "nbformat_minor": 2
}
